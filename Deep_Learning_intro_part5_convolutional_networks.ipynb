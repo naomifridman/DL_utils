{
  "nbformat": 4,
  "nbformat_minor": 0,
  "metadata": {
    "kernelspec": {
      "name": "python2",
      "display_name": "Python 2"
    },
    "language_info": {
      "codemirror_mode": {
        "name": "ipython",
        "version": 2
      },
      "file_extension": ".py",
      "mimetype": "text/x-python",
      "name": "python",
      "nbconvert_exporter": "python",
      "pygments_lexer": "ipython2",
      "version": "2.7.14"
    },
    "colab": {
      "name": "Deep_Learning_intro_part5_convolutional_networks.ipynb",
      "version": "0.3.2",
      "provenance": [],
      "include_colab_link": true
    },
    "accelerator": "GPU"
  },
  "cells": [
    {
      "cell_type": "markdown",
      "metadata": {
        "id": "view-in-github",
        "colab_type": "text"
      },
      "source": [
        "<a href=\"https://colab.research.google.com/github/naomifridman/DL_utils/blob/master/Deep_Learning_intro_part5_convolutional_networks.ipynb\" target=\"_parent\"><img src=\"https://colab.research.google.com/assets/colab-badge.svg\" alt=\"Open In Colab\"/></a>"
      ]
    },
    {
      "cell_type": "markdown",
      "metadata": {
        "id": "FyFxcfX0nzig",
        "colab_type": "text"
      },
      "source": [
        "## Introduction to Deep Learning\n",
        "# Part 5 - Convolutional Neural networks CNN"
      ]
    },
    {
      "cell_type": "code",
      "metadata": {
        "id": "uMtYmbWjnzij",
        "colab_type": "code",
        "colab": {
          "base_uri": "https://localhost:8080/",
          "height": 35
        },
        "outputId": "f8146d19-b222-4eab-f3c1-f3b5f64bdc64"
      },
      "source": [
        "import numpy as np\n",
        "import matplotlib.gridspec as gridspec\n",
        "from sklearn.metrics import accuracy_score, log_loss\n",
        "from keras.datasets import mnist\n",
        "import matplotlib.pyplot as plt\n",
        "%matplotlib inline  "
      ],
      "execution_count": 1,
      "outputs": [
        {
          "output_type": "stream",
          "text": [
            "Using TensorFlow backend.\n"
          ],
          "name": "stderr"
        }
      ]
    },
    {
      "cell_type": "code",
      "metadata": {
        "id": "a2Soc7iuoX19",
        "colab_type": "code",
        "colab": {}
      },
      "source": [
        "def show_list_images(imgs, titles=None):\n",
        "    n_img = len(imgs)\n",
        "    fig, m_axs = plt.subplots(1, n_img, figsize = (n_img*2, 4))\n",
        "    i = 0\n",
        "    for (c_im) in m_axs.T:\n",
        "        c_im.imshow(imgs[i], cmap='gray')\n",
        "        c_im.axis('off')\n",
        "        if (titles is not None):\n",
        "            c_im.set_title(titles[i])\n",
        "        i+=1"
      ],
      "execution_count": 0,
      "outputs": []
    },
    {
      "cell_type": "code",
      "metadata": {
        "id": "XBQU2mfc24WT",
        "colab_type": "code",
        "colab": {}
      },
      "source": [
        "def drow_history(history, metric):\n",
        "    plt.plot(history.history[metric])\n",
        "    plt.plot(history.history['val_'+ metric])\n",
        "    plt.title('model '+metric)\n",
        "    plt.ylabel(metric)\n",
        "    plt.xlabel('epoch')\n",
        "    plt.legend(['train', 'test'], loc='upper left')\n",
        "    plt.show()    "
      ],
      "execution_count": 0,
      "outputs": []
    },
    {
      "cell_type": "code",
      "metadata": {
        "id": "3GxNfTA4nzim",
        "colab_type": "code",
        "colab": {
          "base_uri": "https://localhost:8080/",
          "height": 108
        },
        "outputId": "30834195-216b-4318-c70f-3dbe35188e88"
      },
      "source": [
        "from sklearn.utils import shuffle\n",
        "\n",
        "batch_size = 128\n",
        "num_classes = 10\n",
        "epochs = 20\n",
        "\n",
        "# the data, split between train and test sets\n",
        "(x_train, y_train), (x_test, y_test) = mnist.load_data()\n",
        "x_train, y_train = shuffle(x_train, y_train , random_state=0)\n",
        "\n",
        "x_train = x_train.astype('float32')\n",
        "x_test = x_test.astype('float32')\n",
        "x_train /= 255.\n",
        "x_test /= 255.\n",
        "print(x_train.shape[0], 'train samples')\n",
        "print(x_test.shape[0], 'test samples')"
      ],
      "execution_count": 3,
      "outputs": [
        {
          "output_type": "stream",
          "text": [
            "Downloading data from https://s3.amazonaws.com/img-datasets/mnist.npz\n",
            "11493376/11490434 [==============================] - 1s 0us/step\n",
            "11501568/11490434 [==============================] - 1s 0us/step\n",
            "(60000, 'train samples')\n",
            "(10000, 'test samples')\n"
          ],
          "name": "stdout"
        }
      ]
    },
    {
      "cell_type": "markdown",
      "metadata": {
        "id": "ftP3keEcnziq",
        "colab_type": "text"
      },
      "source": [
        "Lets view some images and labels:"
      ]
    },
    {
      "cell_type": "code",
      "metadata": {
        "id": "7WeIVE3jnzis",
        "colab_type": "code",
        "colab": {
          "base_uri": "https://localhost:8080/",
          "height": 201
        },
        "outputId": "7c26a0a3-7313-43cc-d296-8028f2beb784"
      },
      "source": [
        "print(x_train[0].shape)\n",
        "print('Lables are: ', y_train[15:30])\n",
        "show_list_images(x_train[15:30])"
      ],
      "execution_count": 4,
      "outputs": [
        {
          "output_type": "stream",
          "text": [
            "(28, 28)\n",
            "('Lables are: ', array([1, 2, 2, 9, 3, 6, 9, 8, 7, 0, 0, 3, 7, 0, 6], dtype=uint8))\n"
          ],
          "name": "stdout"
        },
        {
          "output_type": "display_data",
          "data": {
            "image/png": "[encoded data removed]",
            "text/plain": [
              "<Figure size 2160x288 with 15 Axes>"
            ]
          },
          "metadata": {
            "tags": []
          }
        }
      ]
    },
    {
      "cell_type": "markdown",
      "metadata": {
        "id": "8lAExQ_unziy",
        "colab_type": "text"
      },
      "source": [
        "Lets choose 2 images of as example to our discussion:"
      ]
    },
    {
      "cell_type": "code",
      "metadata": {
        "id": "RO8FW3lXnziz",
        "colab_type": "code",
        "colab": {
          "base_uri": "https://localhost:8080/",
          "height": 153
        },
        "outputId": "bd5a1e41-1fee-404b-d134-13acb5e3b44e"
      },
      "source": [
        "img7 = x_train[23]\n",
        "img8 = x_train[97]\n",
        "show_list_images([img7,img8])"
      ],
      "execution_count": 5,
      "outputs": [
        {
          "output_type": "display_data",
          "data": {
            "image/png": "[encoded data removed]",
            "text/plain": [
              "<Figure size 288x288 with 2 Axes>"
            ]
          },
          "metadata": {
            "tags": []
          }
        }
      ]
    },
    {
      "cell_type": "markdown",
      "metadata": {
        "id": "CKtIkrk2nzi2",
        "colab_type": "text"
      },
      "source": [
        "### Convolution as feature detector\n",
        "Convolution is actually a correlation between small part of the image and the filter. We can build a filter that represent a specific feature, horizontal edge for example. Mow we slide the filter along the image, and calculate the \"response\" or the correlation to of the filter to specific parts in the image. The output map of those responses, highlight the areas in the image that contain features which are correlated with the filter.<br>\n",
        "#### Define a filter, and convolve it with the given images.\n",
        "Lets start with a filter that detect horizontal edges."
      ]
    },
    {
      "cell_type": "code",
      "metadata": {
        "id": "M4ixyjOJnzi4",
        "colab_type": "code",
        "colab": {
          "base_uri": "https://localhost:8080/",
          "height": 342
        },
        "outputId": "c556784d-970d-4ab0-8b79-f07804b9d838"
      },
      "source": [
        "conv_filter1=np.array([[-1, -2,-1],\n",
        "       [0,0, 0],\n",
        "       [2, 1, 2]])\n",
        "print(conv_filter1)\n",
        "plt.imshow(conv_filter1, cmap='gray')"
      ],
      "execution_count": 6,
      "outputs": [
        {
          "output_type": "stream",
          "text": [
            "[[-1 -2 -1]\n",
            " [ 0  0  0]\n",
            " [ 2  1  2]]\n"
          ],
          "name": "stdout"
        },
        {
          "output_type": "execute_result",
          "data": {
            "text/plain": [
              "<matplotlib.image.AxesImage at 0x7f377468e2d0>"
            ]
          },
          "metadata": {
            "tags": []
          },
          "execution_count": 6
        },
        {
          "output_type": "display_data",
          "data": {
            "image/png": "[encoded data removed]",
            "text/plain": [
              "<Figure size 432x288 with 1 Axes>"
            ]
          },
          "metadata": {
            "tags": []
          }
        }
      ]
    },
    {
      "cell_type": "code",
      "metadata": {
        "id": "KPn0T32knzi6",
        "colab_type": "code",
        "colab": {}
      },
      "source": [
        "def conv2D(image, conv_filter):\n",
        "    # as a demo code, here we ignore the shape check\n",
        "    x_row, x_col = image.shape\n",
        "    k_row, k_col = conv_filter.shape\n",
        "    ret_row, ret_col = x_row - k_row + 1, x_col - k_col + 1\n",
        "    ret = np.zeros((ret_row, ret_col))\n",
        "    for y in range(ret_row):\n",
        "        for x in range(ret_col):\n",
        "            sub = image[y : y + k_row, x : x + k_col]\n",
        "            ret[y,x] = np.sum(sub * conv_filter)\n",
        "    return ret\n",
        "\n",
        "def conv2D_list(images, conv_filter):\n",
        "    ret=[]\n",
        "    for im in images:\n",
        "        ret.append(conv2D(im, conv_filter))\n",
        "    return ret"
      ],
      "execution_count": 0,
      "outputs": []
    },
    {
      "cell_type": "code",
      "metadata": {
        "id": "3uCr-Myunzi9",
        "colab_type": "code",
        "colab": {
          "base_uri": "https://localhost:8080/",
          "height": 153
        },
        "outputId": "d1f7aa4b-a45b-4bd4-97b8-5603b4bb8ba0"
      },
      "source": [
        "conv_image = conv2D_list([img7, img8], conv_filter1)\n",
        "show_list_images(conv_image)"
      ],
      "execution_count": 8,
      "outputs": [
        {
          "output_type": "display_data",
          "data": {
            "image/png": "[encoded data removed]",
            "text/plain": [
              "<Figure size 288x288 with 2 Axes>"
            ]
          },
          "metadata": {
            "tags": []
          }
        }
      ]
    },
    {
      "cell_type": "markdown",
      "metadata": {
        "id": "jhyU_cVDnzi_",
        "colab_type": "text"
      },
      "source": [
        "The transpose of this filter, will be a filter as well, that will detect the vertical edges."
      ]
    },
    {
      "cell_type": "code",
      "metadata": {
        "id": "UwpWgsr_nzjA",
        "colab_type": "code",
        "colab": {
          "base_uri": "https://localhost:8080/",
          "height": 153
        },
        "outputId": "a9dacfd4-50e0-4b71-9caa-88ca12f1688f"
      },
      "source": [
        "conv_image = conv2D_list([img7, img8], conv_filter1.T)\n",
        "show_list_images(conv_image)"
      ],
      "execution_count": 9,
      "outputs": [
        {
          "output_type": "display_data",
          "data": {
            "image/png": "[encoded data removed]",
            "text/plain": [
              "<Figure size 288x288 with 2 Axes>"
            ]
          },
          "metadata": {
            "tags": []
          }
        }
      ]
    },
    {
      "cell_type": "markdown",
      "metadata": {
        "id": "3VA-RhdonzjE",
        "colab_type": "text"
      },
      "source": [
        "This way we can continue and design different features, to detect diagonals, specific corners,etc. Lets design few more edges."
      ]
    },
    {
      "cell_type": "code",
      "metadata": {
        "id": "crkWJN2BnzjG",
        "colab_type": "code",
        "colab": {}
      },
      "source": [
        "conv_filter = []\n",
        "conv_filter.append(conv_filter1)\n",
        "conv_filter.append(conv_filter1.T)"
      ],
      "execution_count": 0,
      "outputs": []
    },
    {
      "cell_type": "code",
      "metadata": {
        "id": "IFJ_IHmLnzjJ",
        "colab_type": "code",
        "colab": {}
      },
      "source": [
        "cfilter=np.array([[0.5, 1,0],\n",
        "       [-1.5,2, 2],\n",
        "       [-2, -1, 1]])\n",
        "conv_filter.append(cfilter)"
      ],
      "execution_count": 0,
      "outputs": []
    },
    {
      "cell_type": "code",
      "metadata": {
        "id": "BLhnxJpKnzjM",
        "colab_type": "code",
        "colab": {}
      },
      "source": [
        "cfilter=np.array([[1, 1.5,2],\n",
        "       [-2,1, 1.5],\n",
        "       [-1.5, -2,1]])\n",
        "conv_filter.append(cfilter)\n",
        "conv_filter.append(cfilter.T)"
      ],
      "execution_count": 0,
      "outputs": []
    },
    {
      "cell_type": "code",
      "metadata": {
        "id": "j8Jv51BynzjO",
        "colab_type": "code",
        "colab": {}
      },
      "source": [
        "cfilter=np.array([[-1, -1.5,-2],\n",
        "       [-2,0.5, 1.5],\n",
        "       [1, 2, 2]])\n",
        "conv_filter.append(cfilter)\n",
        "conv_filter.append(cfilter.T)"
      ],
      "execution_count": 0,
      "outputs": []
    },
    {
      "cell_type": "markdown",
      "metadata": {
        "id": "Pe5ljlQonzjR",
        "colab_type": "text"
      },
      "source": [
        "Lets view the filters we built and their convolution with the example images. "
      ]
    },
    {
      "cell_type": "code",
      "metadata": {
        "id": "91cYOrtBnzjS",
        "colab_type": "code",
        "colab": {
          "base_uri": "https://localhost:8080/",
          "height": 277
        },
        "outputId": "d4b90b1b-3812-4bd4-8744-6787b38bbdc2"
      },
      "source": [
        "conv_image =[]\n",
        "for f in conv_filter:\n",
        "    conv_image.append(conv2D(img8, f))\n",
        "show_list_images(conv_filter)\n",
        "show_list_images(conv_image)"
      ],
      "execution_count": 14,
      "outputs": [
        {
          "output_type": "display_data",
          "data": {
            "image/png": "[encoded data removed]",
            "text/plain": [
              "<Figure size 1008x288 with 7 Axes>"
            ]
          },
          "metadata": {
            "tags": []
          }
        },
        {
          "output_type": "display_data",
          "data": {
            "image/png": "[encoded data removed]",
            "text/plain": [
              "<Figure size 1008x288 with 7 Axes>"
            ]
          },
          "metadata": {
            "tags": []
          }
        }
      ]
    },
    {
      "cell_type": "code",
      "metadata": {
        "id": "bLnfpOPtnzjV",
        "colab_type": "code",
        "colab": {
          "base_uri": "https://localhost:8080/",
          "height": 147
        },
        "outputId": "611574c2-3e19-4f89-a541-efbb4ce4d99a"
      },
      "source": [
        "conv_image =[]\n",
        "for f in conv_filter:\n",
        "    conv_image.append(conv2D(img7, f))\n",
        "show_list_images(conv_image)"
      ],
      "execution_count": 15,
      "outputs": [
        {
          "output_type": "display_data",
          "data": {
            "image/png": "[encoded data removed]",
            "text/plain": [
              "<Figure size 1008x288 with 7 Axes>"
            ]
          },
          "metadata": {
            "tags": []
          }
        }
      ]
    },
    {
      "cell_type": "markdown",
      "metadata": {
        "id": "d9MXtIPunzjX",
        "colab_type": "text"
      },
      "source": [
        "To collect the information from the feature map of each filter, we can run another set of filter's on the feature map's. Lets view  the convolution of one of the filters with the feature map of the first step."
      ]
    },
    {
      "cell_type": "code",
      "metadata": {
        "id": "PyhR4o3Znzjb",
        "colab_type": "code",
        "colab": {
          "base_uri": "https://localhost:8080/",
          "height": 147
        },
        "outputId": "4692f861-abed-4756-f0f5-2feb3f9d3bcb"
      },
      "source": [
        "conv_image7 =[]\n",
        "for im in conv_image:\n",
        "    conv_image7.append(conv2D(im, conv_filter[0]))\n",
        "show_list_images(conv_image7)"
      ],
      "execution_count": 16,
      "outputs": [
        {
          "output_type": "display_data",
          "data": {
            "image/png": "[encoded data removed]",
            "text/plain": [
              "<Figure size 1008x288 with 7 Axes>"
            ]
          },
          "metadata": {
            "tags": []
          }
        }
      ]
    },
    {
      "cell_type": "markdown",
      "metadata": {
        "id": "kp6Q1Rj1nzjd",
        "colab_type": "text"
      },
      "source": [
        "The performance of a convolutional neural networks, relies on the right filters. So, the idea here is that those filter's will be learn from the data, with the gradient decent method of decreasing the error with backpropogation.<br>\n",
        "Up to here,we discussed the basic intuition to convolutional networks. lets start describing the scheme of building practical convolutional networks. Following are some basic definitions:"
      ]
    },
    {
      "cell_type": "markdown",
      "metadata": {
        "id": "CdfsDOsKnzjd",
        "colab_type": "text"
      },
      "source": [
        "## 2D Convolutional neural networks building blocks\n",
        "### Stride parameter\n",
        "Until now we slided the filter,with steps of 1. But we can slide the filter in larger steps. The size of the sliding step, is the stride parameter. Default value is 1.\n",
        "### Padding parameter\n",
        "When we convolved a filter of size 3x3 with image size 28x28, the result was 26x26 image. If we don't want to decrease the size after each convolution, we can pad zeros for example, around the image,prior to convulution, to control the output size. Keras has \"same\" value for padding, that takes care that output size, will be the same as input.\n",
        "### Stride parameter\n",
        "Until now we slided the filter,with steps of 1. But we can slide the filter in larger steps. The size of the sliding step, is the stride parameter. Default value is 1.\n",
        "### Convolution layer\n",
        "Convolution layer, contain given number of filters, say F. each filter is convolving with the input image, all channels of it, and create feature map. So the output will be a stack of F feature maps, one per each filter. The size of the feature map's depends on the padding, stride and filter size.\n",
        "### Maxpooling layer\n",
        "Maxpooling layer, id a down-sampling layer. It helps prevent overfitting, and it decrease the size of the layer downwards to the number of classes we want to classify.<br>\n",
        "In Maxpooling layer, we define a mask of size nxn, slide the mask over the feature maps, and choose the maximal number in the mask.\n"
      ]
    },
    {
      "cell_type": "markdown",
      "metadata": {
        "id": "tJ_dpdWnnzje",
        "colab_type": "text"
      },
      "source": [
        "### Basic structure of Convolutional neural network\n",
        "* Input layer - the input image, with defined padding.\n",
        "* convolution block's -which are built from convolution and maxpooling layers.\n",
        "* Dense Block - built from dense and droput layers,usually applied on flatten convolution output. Last layer for classification task is usually Softmax."
      ]
    },
    {
      "cell_type": "markdown",
      "metadata": {
        "id": "n0KBeERMnzjf",
        "colab_type": "text"
      },
      "source": [
        "## The Kras network for Mnist classification"
      ]
    },
    {
      "cell_type": "code",
      "metadata": {
        "id": "ah0JF5wGnzjf",
        "colab_type": "code",
        "colab": {}
      },
      "source": [
        "import keras\n",
        "# Keras has many build in data sets\n",
        "from keras.datasets import mnist\n",
        "# Sequential is the basic feed forward neural network (FFN)\n",
        "from keras.models import Sequential\n",
        "# Dense is fully connected layer\n",
        "# Dropout is a \"noising\" layer, to prevent over feet.\n",
        "from keras.layers import Dense, Dropout, Conv2D, MaxPooling2D, Flatten\n",
        "# Read about optimizers in keras documentation\n",
        "from keras.optimizers import RMSprop"
      ],
      "execution_count": 0,
      "outputs": []
    },
    {
      "cell_type": "code",
      "metadata": {
        "id": "QJlZMvIznzji",
        "colab_type": "code",
        "colab": {}
      },
      "source": [
        "# convert class vectors to binary class matrices\n",
        "# create \"dummy\" variables for each category\n",
        "y_train = keras.utils.to_categorical(y_train, num_classes)\n",
        "y_test = keras.utils.to_categorical(y_test, num_classes)"
      ],
      "execution_count": 0,
      "outputs": []
    },
    {
      "cell_type": "code",
      "metadata": {
        "id": "0IsDkn1Pnzjp",
        "colab_type": "code",
        "colab": {}
      },
      "source": [
        "x_train = x_train.reshape(x_train.shape[0], 28, 28, 1)\n",
        "x_test = x_test.reshape(x_test.shape[0], 28, 28, 1)"
      ],
      "execution_count": 0,
      "outputs": []
    },
    {
      "cell_type": "code",
      "metadata": {
        "id": "eBP89NApnzjw",
        "colab_type": "code",
        "colab": {
          "base_uri": "https://localhost:8080/",
          "height": 710
        },
        "outputId": "a728fe31-9f95-490d-94f9-214f4fe51485"
      },
      "source": [
        "model = Sequential()\n",
        "\n",
        "model.add(Conv2D(32, kernel_size=(3, 3),\n",
        "                 activation='relu',\n",
        "                 input_shape=x_train[0].shape)) #input_shape))\n",
        "model.add(Conv2D(64, (3, 3), activation='relu'))\n",
        "model.add(MaxPooling2D(pool_size=(2, 2)))\n",
        "\n",
        "model.add(Dropout(0.25))\n",
        "model.add(Flatten())\n",
        "model.add(Dense(128, activation='relu'))\n",
        "model.add(Dropout(0.5))\n",
        "model.add(Dense(num_classes, activation='softmax'))\n",
        "model.summary()"
      ],
      "execution_count": 20,
      "outputs": [
        {
          "output_type": "stream",
          "text": [
            "WARNING: Logging before flag parsing goes to stderr.\n",
            "W0915 16:50:40.877974 139877768435584 deprecation_wrapper.py:119] From /usr/local/lib/python2.7/dist-packages/keras/backend/tensorflow_backend.py:74: The name tf.get_default_graph is deprecated. Please use tf.compat.v1.get_default_graph instead.\n",
            "\n",
            "W0915 16:50:40.915945 139877768435584 deprecation_wrapper.py:119] From /usr/local/lib/python2.7/dist-packages/keras/backend/tensorflow_backend.py:517: The name tf.placeholder is deprecated. Please use tf.compat.v1.placeholder instead.\n",
            "\n",
            "W0915 16:50:40.924242 139877768435584 deprecation_wrapper.py:119] From /usr/local/lib/python2.7/dist-packages/keras/backend/tensorflow_backend.py:4138: The name tf.random_uniform is deprecated. Please use tf.random.uniform instead.\n",
            "\n",
            "W0915 16:50:40.968928 139877768435584 deprecation_wrapper.py:119] From /usr/local/lib/python2.7/dist-packages/keras/backend/tensorflow_backend.py:3976: The name tf.nn.max_pool is deprecated. Please use tf.nn.max_pool2d instead.\n",
            "\n",
            "W0915 16:50:40.973835 139877768435584 deprecation_wrapper.py:119] From /usr/local/lib/python2.7/dist-packages/keras/backend/tensorflow_backend.py:133: The name tf.placeholder_with_default is deprecated. Please use tf.compat.v1.placeholder_with_default instead.\n",
            "\n",
            "W0915 16:50:40.984687 139877768435584 deprecation.py:506] From /usr/local/lib/python2.7/dist-packages/keras/backend/tensorflow_backend.py:3445: calling dropout (from tensorflow.python.ops.nn_ops) with keep_prob is deprecated and will be removed in a future version.\n",
            "Instructions for updating:\n",
            "Please use `rate` instead of `keep_prob`. Rate should be set to `rate = 1 - keep_prob`.\n"
          ],
          "name": "stderr"
        },
        {
          "output_type": "stream",
          "text": [
            "_________________________________________________________________\n",
            "Layer (type)                 Output Shape              Param #   \n",
            "=================================================================\n",
            "conv2d_1 (Conv2D)            (None, 26, 26, 32)        320       \n",
            "_________________________________________________________________\n",
            "conv2d_2 (Conv2D)            (None, 24, 24, 64)        18496     \n",
            "_________________________________________________________________\n",
            "max_pooling2d_1 (MaxPooling2 (None, 12, 12, 64)        0         \n",
            "_________________________________________________________________\n",
            "dropout_1 (Dropout)          (None, 12, 12, 64)        0         \n",
            "_________________________________________________________________\n",
            "flatten_1 (Flatten)          (None, 9216)              0         \n",
            "_________________________________________________________________\n",
            "dense_1 (Dense)              (None, 128)               1179776   \n",
            "_________________________________________________________________\n",
            "dropout_2 (Dropout)          (None, 128)               0         \n",
            "_________________________________________________________________\n",
            "dense_2 (Dense)              (None, 10)                1290      \n",
            "=================================================================\n",
            "Total params: 1,199,882\n",
            "Trainable params: 1,199,882\n",
            "Non-trainable params: 0\n",
            "_________________________________________________________________\n"
          ],
          "name": "stdout"
        }
      ]
    },
    {
      "cell_type": "code",
      "metadata": {
        "id": "2wTVNoy6nzj0",
        "colab_type": "code",
        "colab": {
          "base_uri": "https://localhost:8080/",
          "height": 910
        },
        "outputId": "071def4e-7af6-4bb9-d97b-29817d646d9b"
      },
      "source": [
        "model.compile(loss=keras.losses.categorical_crossentropy,\n",
        "              optimizer=keras.optimizers.Adadelta(),\n",
        "              metrics=['accuracy'])\n",
        "\n",
        "history = model.fit(x_train, y_train,\n",
        "          batch_size=batch_size,\n",
        "          epochs=epochs,\n",
        "          verbose=1,\n",
        "          validation_data=(x_test, y_test))"
      ],
      "execution_count": 21,
      "outputs": [
        {
          "output_type": "stream",
          "text": [
            "W0915 16:50:41.093729 139877768435584 deprecation_wrapper.py:119] From /usr/local/lib/python2.7/dist-packages/keras/optimizers.py:790: The name tf.train.Optimizer is deprecated. Please use tf.compat.v1.train.Optimizer instead.\n",
            "\n",
            "W0915 16:50:41.103605 139877768435584 deprecation_wrapper.py:119] From /usr/local/lib/python2.7/dist-packages/keras/backend/tensorflow_backend.py:3295: The name tf.log is deprecated. Please use tf.math.log instead.\n",
            "\n",
            "W0915 16:50:41.440557 139877768435584 deprecation.py:323] From /usr/local/lib/python2.7/dist-packages/tensorflow/python/ops/math_grad.py:1250: where (from tensorflow.python.ops.array_ops) is deprecated and will be removed in a future version.\n",
            "Instructions for updating:\n",
            "Use tf.where in 2.0, which has the same broadcast rule as np.where\n"
          ],
          "name": "stderr"
        },
        {
          "output_type": "stream",
          "text": [
            "Train on 60000 samples, validate on 10000 samples\n",
            "Epoch 1/20\n",
            "60000/60000 [==============================] - 16s 270us/step - loss: 0.2606 - acc: 0.9192 - val_loss: 0.0570 - val_acc: 0.9810\n",
            "Epoch 2/20\n",
            "60000/60000 [==============================] - 9s 155us/step - loss: 0.0856 - acc: 0.9750 - val_loss: 0.0384 - val_acc: 0.9865\n",
            "Epoch 3/20\n",
            "60000/60000 [==============================] - 9s 152us/step - loss: 0.0647 - acc: 0.9806 - val_loss: 0.0342 - val_acc: 0.9886\n",
            "Epoch 4/20\n",
            "60000/60000 [==============================] - 9s 152us/step - loss: 0.0524 - acc: 0.9841 - val_loss: 0.0313 - val_acc: 0.9900\n",
            "Epoch 5/20\n",
            "60000/60000 [==============================] - 9s 152us/step - loss: 0.0475 - acc: 0.9855 - val_loss: 0.0309 - val_acc: 0.9896\n",
            "Epoch 6/20\n",
            "60000/60000 [==============================] - 9s 150us/step - loss: 0.0404 - acc: 0.9874 - val_loss: 0.0278 - val_acc: 0.9903\n",
            "Epoch 7/20\n",
            "60000/60000 [==============================] - 9s 150us/step - loss: 0.0372 - acc: 0.9888 - val_loss: 0.0259 - val_acc: 0.9918\n",
            "Epoch 8/20\n",
            "60000/60000 [==============================] - 9s 151us/step - loss: 0.0334 - acc: 0.9896 - val_loss: 0.0291 - val_acc: 0.9904\n",
            "Epoch 9/20\n",
            "60000/60000 [==============================] - 9s 153us/step - loss: 0.0321 - acc: 0.9900 - val_loss: 0.0263 - val_acc: 0.9911\n",
            "Epoch 10/20\n",
            "60000/60000 [==============================] - 9s 152us/step - loss: 0.0289 - acc: 0.9907 - val_loss: 0.0245 - val_acc: 0.9919\n",
            "Epoch 11/20\n",
            "60000/60000 [==============================] - 9s 151us/step - loss: 0.0252 - acc: 0.9922 - val_loss: 0.0250 - val_acc: 0.9916\n",
            "Epoch 12/20\n",
            "60000/60000 [==============================] - 9s 151us/step - loss: 0.0259 - acc: 0.9916 - val_loss: 0.0263 - val_acc: 0.9918\n",
            "Epoch 13/20\n",
            "60000/60000 [==============================] - 9s 152us/step - loss: 0.0239 - acc: 0.9926 - val_loss: 0.0238 - val_acc: 0.9920\n",
            "Epoch 14/20\n",
            "60000/60000 [==============================] - 9s 151us/step - loss: 0.0225 - acc: 0.9927 - val_loss: 0.0276 - val_acc: 0.9911\n",
            "Epoch 15/20\n",
            "60000/60000 [==============================] - 9s 152us/step - loss: 0.0215 - acc: 0.9930 - val_loss: 0.0265 - val_acc: 0.9916\n",
            "Epoch 16/20\n",
            "60000/60000 [==============================] - 9s 150us/step - loss: 0.0218 - acc: 0.9929 - val_loss: 0.0260 - val_acc: 0.9923\n",
            "Epoch 17/20\n",
            "60000/60000 [==============================] - 9s 151us/step - loss: 0.0200 - acc: 0.9936 - val_loss: 0.0277 - val_acc: 0.9918\n",
            "Epoch 18/20\n",
            "60000/60000 [==============================] - 9s 152us/step - loss: 0.0200 - acc: 0.9936 - val_loss: 0.0260 - val_acc: 0.9919\n",
            "Epoch 19/20\n",
            "60000/60000 [==============================] - 9s 152us/step - loss: 0.0185 - acc: 0.9941 - val_loss: 0.0277 - val_acc: 0.9919\n",
            "Epoch 20/20\n",
            "60000/60000 [==============================] - 9s 151us/step - loss: 0.0209 - acc: 0.9936 - val_loss: 0.0258 - val_acc: 0.9920\n"
          ],
          "name": "stdout"
        }
      ]
    },
    {
      "cell_type": "markdown",
      "metadata": {
        "id": "89BGY66rnzj2",
        "colab_type": "text"
      },
      "source": [
        "## Train Monitoring and Model evaluation"
      ]
    },
    {
      "cell_type": "code",
      "metadata": {
        "id": "vKqAGjaznzj3",
        "colab_type": "code",
        "colab": {
          "base_uri": "https://localhost:8080/",
          "height": 54
        },
        "outputId": "11c42c07-16c4-41c4-b3aa-2d6c61347e04"
      },
      "source": [
        "score = model.evaluate(x_test, y_test, verbose=0)\n",
        "print('Test loss:', score[0])\n",
        "print('Test accuracy:', score[1])"
      ],
      "execution_count": 22,
      "outputs": [
        {
          "output_type": "stream",
          "text": [
            "('Test loss:', 0.025766946106385604)\n",
            "('Test accuracy:', 0.992)\n"
          ],
          "name": "stdout"
        }
      ]
    },
    {
      "cell_type": "code",
      "metadata": {
        "id": "bxfbOqAcnzj5",
        "colab_type": "code",
        "colab": {
          "base_uri": "https://localhost:8080/",
          "height": 295
        },
        "outputId": "df7d1838-c4ce-4a1f-c264-83887e1c7997"
      },
      "source": [
        "drow_history(history, 'loss')"
      ],
      "execution_count": 26,
      "outputs": [
        {
          "output_type": "display_data",
          "data": {
            "image/png": "[encoded data removed]",
            "text/plain": [
              "<Figure size 432x288 with 1 Axes>"
            ]
          },
          "metadata": {
            "tags": []
          }
        }
      ]
    },
    {
      "cell_type": "code",
      "metadata": {
        "id": "CE1TJNl-nzj7",
        "colab_type": "code",
        "colab": {
          "base_uri": "https://localhost:8080/",
          "height": 295
        },
        "outputId": "66f351ad-d140-45e4-bb03-420a440389c8"
      },
      "source": [
        "drow_history(history, 'acc')"
      ],
      "execution_count": 27,
      "outputs": [
        {
          "output_type": "display_data",
          "data": {
            "image/png": "[encoded data removed]",
            "text/plain": [
              "<Figure size 432x288 with 1 Axes>"
            ]
          },
          "metadata": {
            "tags": []
          }
        }
      ]
    },
    {
      "cell_type": "code",
      "metadata": {
        "id": "0xmntnVY3HIa",
        "colab_type": "code",
        "colab": {}
      },
      "source": [
        ""
      ],
      "execution_count": 0,
      "outputs": []
    },
    {
      "cell_type": "markdown",
      "metadata": {
        "id": "ZgDtTlY1nzj8",
        "colab_type": "text"
      },
      "source": [
        "Sources:\n",
        "    * https://www.youtube.com/watch?v=ACU-T9L4_lI\n",
        "    * CS231n Winter 2016: Lecture 7: Convolutional Neural Networks https://www.youtube.com/watch?v=LxfUGhug-iQ\n",
        "    * Minsy data set - THE MNIST DATABASE of handwritten digits http://yann.lecun.com/exdb/mnist/\n",
        "    http://cs231n.stanford.edu Anfrej Karpathy"
      ]
    },
    {
      "cell_type": "markdown",
      "metadata": {
        "id": "4596dFr6nzj9",
        "colab_type": "text"
      },
      "source": [
        "### Articles:\n",
        "* Krizhevsky, A., Sutskever, I., and Hinton, G. **Imagenet\n",
        "classification with deep convolutional neural networks.** In Advances in Neural Information Processing Systems 25, pp. 1106–1114, 2012.\n",
        "* V. Nair and G. E. Hinton. **Rectified linear units improve restricted boltzmann machines.**  27th International Conference on Machine Learning, 2010.\n",
        "* D.E. RummelhartG.E. HintonR.J. Williams. **Learning Internal Representations by Error Propagation** Jan 1986 Nature.\n"
      ]
    },
    {
      "cell_type": "code",
      "metadata": {
        "id": "xGgSlJtanzj9",
        "colab_type": "code",
        "colab": {}
      },
      "source": [
        ""
      ],
      "execution_count": 0,
      "outputs": []
    }
  ]
}